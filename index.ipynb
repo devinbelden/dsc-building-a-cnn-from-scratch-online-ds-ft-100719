{
 "cells": [
  {
   "cell_type": "markdown",
   "metadata": {},
   "source": [
    "# Building a CNN from Scratch - Lab\n",
    "\n",
    "## Introduction\n",
    "\n",
    "Now that you have background knowledge regarding how CNNs work and how to build them using Keras, its time to practice those skills a little more independently in order to build a CNN on your own to solve a image recognition problem. In this lab, you'll practice building an image classifier from start to finish using a CNN.  \n",
    "\n",
    "## Objectives\n",
    "\n",
    "In this lab you will: \n",
    "\n",
    "- Load images from a hierarchical file structure using an image datagenerator \n",
    "- Apply data augmentation to image files before training a neural network \n",
    "- Build a CNN using Keras \n",
    "- Visualize and evaluate the performance of CNN models \n",
    "\n",
    "## Loading the Images\n",
    "\n",
    "The data for this lab concerns lung xray images for pneumonia. The original dataset is from Kaggle. We have downsampled this dataset in order to reduce training time for you when you design and fit your model to the data. ⏰ It is anticipated that this process will take approximately one hour to run on a standard machine, although times will vary depending on your particular computer and set up. At the end of this lab, you are welcome to try training on the complete dataset and observe the impact on the model's overall accuracy. \n",
    "\n",
    "You can find the initial downsampled dataset in a subdirectory, **chest_xray**, of this repository. "
   ]
  },
  {
   "cell_type": "code",
   "execution_count": 1,
   "metadata": {},
   "outputs": [
    {
     "name": "stderr",
     "output_type": "stream",
     "text": [
      "Using TensorFlow backend.\n"
     ]
    }
   ],
   "source": [
    "# Load the images; be sure to also preprocess these into tensors \n",
    "from keras.preprocessing.image import ImageDataGenerator\n",
    "\n",
    "train_dir = 'chest_xray_downsampled/train'\n",
    "validation_dir = 'chest_xray_downsampled/val/'\n",
    "test_dir = 'chest_xray_downsampled/test/' \n",
    "\n",
    "train_datagen = ImageDataGenerator(rescale=1./255)\n",
    "test_datagen = ImageDataGenerator(rescale=1./255)"
   ]
  },
  {
   "cell_type": "code",
   "execution_count": 2,
   "metadata": {},
   "outputs": [
    {
     "name": "stdout",
     "output_type": "stream",
     "text": [
      "Found 1738 images belonging to 2 classes.\n",
      "Found 4 images belonging to 2 classes.\n"
     ]
    }
   ],
   "source": [
    "train_generator = train_datagen.flow_from_directory(train_dir,\n",
    "                                                   target_size=(150,150),\n",
    "                                                   batch_size=20,\n",
    "                                                   class_mode='binary')\n",
    "\n",
    "validation_generator = test_datagen.flow_from_directory(validation_dir,\n",
    "                                                       target_size=(150,150),\n",
    "                                                       batch_size=20,\n",
    "                                                       class_mode='binary')"
   ]
  },
  {
   "cell_type": "markdown",
   "metadata": {},
   "source": [
    "## Designing the Model\n",
    "\n",
    "Now it's time to design your CNN using Keras! Remember a few things when doing this: \n",
    "\n",
    "- You should alternate convolutional and pooling layers\n",
    "- You should have later layers have a larger number of parameters in order to detect more abstract patterns\n",
    "- Add some final dense layers to add a classifier to the convolutional base \n",
    "- Compile this model "
   ]
  },
  {
   "cell_type": "code",
   "execution_count": 4,
   "metadata": {},
   "outputs": [],
   "source": [
    "# Your code here; design and compile the model\n",
    "import keras\n",
    "\n",
    "model = keras.Sequential([\n",
    "    keras.layers.Conv2D(32, kernel_size=(3,3), activation='relu', input_shape=(150,150,3)),\n",
    "    keras.layers.MaxPooling2D(pool_size=(2,2)),\n",
    "    keras.layers.Flatten(),\n",
    "    keras.layers.Dense(64, activation='relu'),\n",
    "    keras.layers.Dense(1, activation='sigmoid')\n",
    "])"
   ]
  },
  {
   "cell_type": "code",
   "execution_count": 5,
   "metadata": {},
   "outputs": [],
   "source": [
    "model.compile(optimizer=keras.optimizers.RMSprop(),\n",
    "             loss='binary_crossentropy',\n",
    "             metrics=['accuracy'])"
   ]
  },
  {
   "cell_type": "markdown",
   "metadata": {},
   "source": [
    "## Training and Evaluating the Model\n",
    "\n",
    "Remember that training deep networks is resource intensive: depending on the size of the data, even a CNN with 3-4 successive convolutional and pooling layers is apt to take a hours to train on a high end laptop. Using 30 epochs and 8 layers (alternating between convolutional and pooling), our model took about 40 minutes to run on a year old macbook pro.\n",
    "\n",
    "\n",
    "If you are concerned with runtime, you may want to set your model to run the training epochs overnight.  \n",
    "\n",
    "**If you are going to run this process overnight, be sure to also script code for the following questions concerning data augmentation. Check your code twice (or more) and then set the notebook to run all, or something equivalent to have them train overnight.** "
   ]
  },
  {
   "cell_type": "code",
   "execution_count": 6,
   "metadata": {
    "scrolled": true
   },
   "outputs": [
    {
     "name": "stdout",
     "output_type": "stream",
     "text": [
      "Epoch 1/30\n",
      "87/87 [==============================] - 45s 522ms/step - loss: 0.8594 - accuracy: 0.7578 - val_loss: 0.7615 - val_accuracy: 0.7500\n",
      "Epoch 2/30\n",
      "87/87 [==============================] - 27s 308ms/step - loss: 0.2735 - accuracy: 0.8953 - val_loss: 0.8094 - val_accuracy: 0.7500\n",
      "Epoch 3/30\n",
      "87/87 [==============================] - 27s 310ms/step - loss: 0.1650 - accuracy: 0.9407 - val_loss: 0.7689 - val_accuracy: 0.7500\n",
      "Epoch 4/30\n",
      "87/87 [==============================] - 26s 299ms/step - loss: 0.1019 - accuracy: 0.9626 - val_loss: 1.2937 - val_accuracy: 0.5000\n",
      "Epoch 5/30\n",
      "87/87 [==============================] - 26s 301ms/step - loss: 0.0784 - accuracy: 0.9735 - val_loss: 1.2969 - val_accuracy: 0.7500\n",
      "Epoch 6/30\n",
      "87/87 [==============================] - 27s 307ms/step - loss: 0.0635 - accuracy: 0.9793 - val_loss: 1.0718 - val_accuracy: 0.7500\n",
      "Epoch 7/30\n",
      "87/87 [==============================] - 26s 300ms/step - loss: 0.0439 - accuracy: 0.9868 - val_loss: 0.5238 - val_accuracy: 0.7500\n",
      "Epoch 8/30\n",
      "87/87 [==============================] - 26s 299ms/step - loss: 0.0444 - accuracy: 0.9862 - val_loss: 0.9775 - val_accuracy: 0.7500\n",
      "Epoch 9/30\n",
      "87/87 [==============================] - 26s 301ms/step - loss: 0.0222 - accuracy: 0.9914 - val_loss: 1.5766 - val_accuracy: 0.7500\n",
      "Epoch 10/30\n",
      "87/87 [==============================] - 26s 295ms/step - loss: 0.0212 - accuracy: 0.9937 - val_loss: 1.3025 - val_accuracy: 0.7500\n",
      "Epoch 11/30\n",
      "87/87 [==============================] - 25s 292ms/step - loss: 0.0264 - accuracy: 0.9965 - val_loss: 0.6799 - val_accuracy: 0.7500\n",
      "Epoch 12/30\n",
      "87/87 [==============================] - 26s 294ms/step - loss: 0.0290 - accuracy: 0.9937 - val_loss: 1.0921 - val_accuracy: 0.7500\n",
      "Epoch 13/30\n",
      "87/87 [==============================] - 26s 299ms/step - loss: 0.0208 - accuracy: 0.9919 - val_loss: 1.2400 - val_accuracy: 0.7500\n",
      "Epoch 14/30\n",
      "87/87 [==============================] - 26s 298ms/step - loss: 0.0056 - accuracy: 0.9977 - val_loss: 1.9781 - val_accuracy: 0.7500\n",
      "Epoch 15/30\n",
      "87/87 [==============================] - 26s 296ms/step - loss: 0.0079 - accuracy: 0.9988 - val_loss: 0.5481 - val_accuracy: 0.7500\n",
      "Epoch 16/30\n",
      "87/87 [==============================] - 25s 293ms/step - loss: 0.0145 - accuracy: 0.9960 - val_loss: 1.6015 - val_accuracy: 0.7500\n",
      "Epoch 17/30\n",
      "87/87 [==============================] - 26s 293ms/step - loss: 0.0136 - accuracy: 0.9948 - val_loss: 1.6390 - val_accuracy: 0.7500\n",
      "Epoch 18/30\n",
      "87/87 [==============================] - 25s 292ms/step - loss: 0.0088 - accuracy: 0.9971 - val_loss: 1.6602 - val_accuracy: 0.7500\n",
      "Epoch 19/30\n",
      "87/87 [==============================] - 26s 295ms/step - loss: 0.0726 - accuracy: 0.9937 - val_loss: 1.3465 - val_accuracy: 0.7500\n",
      "Epoch 20/30\n",
      "87/87 [==============================] - 26s 296ms/step - loss: 0.0017 - accuracy: 0.9988 - val_loss: 1.9856 - val_accuracy: 0.7500\n",
      "Epoch 21/30\n",
      "87/87 [==============================] - 25s 293ms/step - loss: 0.0084 - accuracy: 0.9983 - val_loss: 2.3265 - val_accuracy: 0.7500\n",
      "Epoch 22/30\n",
      "87/87 [==============================] - 26s 295ms/step - loss: 0.0367 - accuracy: 0.9960 - val_loss: 1.2532 - val_accuracy: 0.7500\n",
      "Epoch 23/30\n",
      "87/87 [==============================] - 26s 300ms/step - loss: 4.0036e-05 - accuracy: 1.0000 - val_loss: 2.0235 - val_accuracy: 0.7500\n",
      "Epoch 24/30\n",
      "87/87 [==============================] - 25s 292ms/step - loss: 0.0547 - accuracy: 0.9977 - val_loss: 1.2056 - val_accuracy: 0.7500\n",
      "Epoch 25/30\n",
      "87/87 [==============================] - 26s 296ms/step - loss: 7.2634e-06 - accuracy: 1.0000 - val_loss: 2.4745 - val_accuracy: 0.7500\n",
      "Epoch 26/30\n",
      "87/87 [==============================] - 26s 297ms/step - loss: 0.0254 - accuracy: 0.9971 - val_loss: 1.6984 - val_accuracy: 0.7500\n",
      "Epoch 27/30\n",
      "87/87 [==============================] - 26s 295ms/step - loss: 0.0199 - accuracy: 0.9965 - val_loss: 1.4549 - val_accuracy: 0.7500\n",
      "Epoch 28/30\n",
      "87/87 [==============================] - 26s 296ms/step - loss: 0.0505 - accuracy: 0.9931 - val_loss: 1.4410 - val_accuracy: 0.7500\n",
      "Epoch 29/30\n",
      "87/87 [==============================] - 25s 292ms/step - loss: 0.1267 - accuracy: 0.9948 - val_loss: 0.7476 - val_accuracy: 0.7500\n",
      "Epoch 30/30\n",
      "87/87 [==============================] - 26s 301ms/step - loss: 4.9116e-05 - accuracy: 1.0000 - val_loss: 0.7935 - val_accuracy: 0.7500\n"
     ]
    }
   ],
   "source": [
    "# Set the model to train \n",
    "# ⏰ This cell may take several minutes to run \n",
    "history = model.fit_generator(generator=train_generator,\n",
    "                             epochs=30,\n",
    "                             steps_per_epoch=87, # equal to ceiling(num_samples/batch_size)\n",
    "                             validation_data=validation_generator,\n",
    "                             validation_steps=50)"
   ]
  },
  {
   "cell_type": "code",
   "execution_count": 14,
   "metadata": {},
   "outputs": [
    {
     "data": {
      "image/png": "[encoded data removed]",
      "text/plain": [
       "<Figure size 576x360 with 1 Axes>"
      ]
     },
     "metadata": {},
     "output_type": "display_data"
    }
   ],
   "source": [
    "# Plot history\n",
    "import seaborn as sns\n",
    "import matplotlib.pyplot as plt\n",
    "%matplotlib inline\n",
    "\n",
    "sns.set_style('darkgrid')\n",
    "sns.set_context(\"talk\")\n",
    "\n",
    "acc = history.history['accuracy']\n",
    "val_acc = history.history['val_accuracy']\n",
    "x = range(len(history.history['accuracy']))\n",
    "\n",
    "plt.figure(figsize=(8,5))\n",
    "plt.plot(x, acc, color='b', label='Training Accuracy')\n",
    "plt.plot(x, val_acc, color='r', label='Validation Accuracy')\n",
    "plt.xlabel(\"Epochs\")\n",
    "plt.ylabel(\"Accuracy\")\n",
    "plt.title(\"Accuracy vs Epochs\")\n",
    "plt.legend()\n",
    "plt.show()"
   ]
  },
  {
   "cell_type": "markdown",
   "metadata": {},
   "source": [
    "## Save the Model"
   ]
  },
  {
   "cell_type": "code",
   "execution_count": 15,
   "metadata": {},
   "outputs": [],
   "source": [
    "# Your code here; save the model for future reference \n",
    "model.save('chest_xray_prelim_model.h5')"
   ]
  },
  {
   "cell_type": "markdown",
   "metadata": {},
   "source": [
    "## Data Augmentation\n",
    "\n",
    "Recall that data augmentation is typically always a necessary step when using a small dataset as this one which you have been provided. As such, if you haven't already, implement a data augmentation setup.\n",
    "\n",
    "**Warning: ⏰ This process took nearly 4 hours to run on a relatively new macbook pro. As such, it is recommended that you simply code the setup and compare to the solution branch, or set the process to run overnight if you do choose to actually run the code.** "
   ]
  },
  {
   "cell_type": "code",
   "execution_count": 36,
   "metadata": {},
   "outputs": [
    {
     "name": "stdout",
     "output_type": "stream",
     "text": [
      "Found 1738 images belonging to 2 classes.\n",
      "Found 4 images belonging to 2 classes.\n"
     ]
    }
   ],
   "source": [
    "# Add data augmentation to the model setup and set the model to train; \n",
    "# See warnings above if you intend to run this block of code \n",
    "# ⏰ This cell may take several hours to run \n",
    "train_datagen1 = ImageDataGenerator(rescale=1./255,\n",
    "                                    rotation_range=40,\n",
    "                                    width_shift_range=0.2,\n",
    "                                    height_shift_range=0.2,\n",
    "                                    shear_range=0.2,\n",
    "                                    zoom_range=0.2,\n",
    "                                    horizontal_flip=True,\n",
    "                                    fill_mode='nearest')\n",
    "\n",
    "test_datagen1 = ImageDataGenerator(rescale=1./255)\n",
    "\n",
    "train_generator1 = train_datagen1.flow_from_directory(train_dir,\n",
    "                                                      target_size=(150,150),\n",
    "                                                      batch_size=20,\n",
    "                                                      class_mode='binary')\n",
    "\n",
    "validation_generator1 = test_datagen1.flow_from_directory(validation_dir,\n",
    "                                                          target_size=(150,150),\n",
    "                                                          batch_size=20,\n",
    "                                                          class_mode='binary')\n",
    "\n"
   ]
  },
  {
   "cell_type": "code",
   "execution_count": 37,
   "metadata": {},
   "outputs": [],
   "source": [
    "model1 = keras.Sequential([\n",
    "    keras.layers.Conv2D(32, kernel_size=(3,3), activation='relu', input_shape=(150,150,3)),\n",
    "    keras.layers.MaxPooling2D(pool_size=(2,2)),\n",
    "    keras.layers.Conv2D(64, kernel_size=(3,3), activation='relu'),\n",
    "    keras.layers.MaxPooling2D(pool_size=(2,2)),\n",
    "    keras.layers.Conv2D(64, kernel_size=(3,3), activation='relu'),\n",
    "    keras.layers.MaxPooling2D(pool_size=(2,2)),\n",
    "    keras.layers.Flatten(),\n",
    "    keras.layers.Dense(128, activation='relu'),\n",
    "    keras.layers.Dense(1, activation='sigmoid')\n",
    "])\n",
    "\n",
    "model1.compile(optimizer=keras.optimizers.RMSprop(),\n",
    "               loss='binary_crossentropy',\n",
    "               metrics=['accuracy'])"
   ]
  },
  {
   "cell_type": "code",
   "execution_count": 38,
   "metadata": {
    "scrolled": true
   },
   "outputs": [
    {
     "name": "stdout",
     "output_type": "stream",
     "text": [
      "Epoch 1/30\n",
      "87/87 [==============================] - 35s 402ms/step - loss: 0.6835 - accuracy: 0.7273 - val_loss: 0.8237 - val_accuracy: 0.5000\n",
      "Epoch 2/30\n",
      "87/87 [==============================] - 34s 385ms/step - loss: 0.4734 - accuracy: 0.7411 - val_loss: 1.0537 - val_accuracy: 0.5000\n",
      "Epoch 3/30\n",
      "87/87 [==============================] - 31s 362ms/step - loss: 0.4369 - accuracy: 0.7848 - val_loss: 2.3436 - val_accuracy: 0.7500\n",
      "Epoch 4/30\n",
      "87/87 [==============================] - 32s 363ms/step - loss: 0.4178 - accuracy: 0.8096 - val_loss: 1.8397 - val_accuracy: 0.7500\n",
      "Epoch 5/30\n",
      "87/87 [==============================] - 31s 362ms/step - loss: 0.3809 - accuracy: 0.8165 - val_loss: 1.2680 - val_accuracy: 0.5000\n",
      "Epoch 6/30\n",
      "87/87 [==============================] - 31s 360ms/step - loss: 0.3455 - accuracy: 0.8470 - val_loss: 1.4225 - val_accuracy: 0.5000\n",
      "Epoch 7/30\n",
      "87/87 [==============================] - 32s 368ms/step - loss: 0.3540 - accuracy: 0.8429 - val_loss: 1.2004 - val_accuracy: 0.7500\n",
      "Epoch 8/30\n",
      "87/87 [==============================] - 32s 368ms/step - loss: 0.3114 - accuracy: 0.8654 - val_loss: 1.4640 - val_accuracy: 0.7500\n",
      "Epoch 9/30\n",
      "87/87 [==============================] - 32s 364ms/step - loss: 0.3339 - accuracy: 0.8648 - val_loss: 1.6340 - val_accuracy: 0.7500\n",
      "Epoch 10/30\n",
      "87/87 [==============================] - 32s 368ms/step - loss: 0.2861 - accuracy: 0.8642 - val_loss: 1.2126 - val_accuracy: 0.7500\n",
      "Epoch 11/30\n",
      "87/87 [==============================] - 32s 371ms/step - loss: 0.3142 - accuracy: 0.8642 - val_loss: 2.2283 - val_accuracy: 0.7500\n",
      "Epoch 12/30\n",
      "87/87 [==============================] - 32s 365ms/step - loss: 0.2880 - accuracy: 0.8815 - val_loss: 1.9437 - val_accuracy: 0.7500\n",
      "Epoch 13/30\n",
      "87/87 [==============================] - 32s 368ms/step - loss: 0.2776 - accuracy: 0.8803 - val_loss: 1.1673 - val_accuracy: 0.7500\n",
      "Epoch 14/30\n",
      "87/87 [==============================] - 32s 366ms/step - loss: 0.2778 - accuracy: 0.8895 - val_loss: 1.3753 - val_accuracy: 0.7500\n",
      "Epoch 15/30\n",
      "87/87 [==============================] - 32s 373ms/step - loss: 0.2440 - accuracy: 0.8901 - val_loss: 1.7496 - val_accuracy: 0.7500\n",
      "Epoch 16/30\n",
      "87/87 [==============================] - 32s 372ms/step - loss: 0.2574 - accuracy: 0.8964 - val_loss: 1.9735 - val_accuracy: 0.7500\n",
      "Epoch 17/30\n",
      "87/87 [==============================] - 32s 365ms/step - loss: 0.2669 - accuracy: 0.8999 - val_loss: 1.1173 - val_accuracy: 0.7500\n",
      "Epoch 18/30\n",
      "87/87 [==============================] - 32s 372ms/step - loss: 0.2496 - accuracy: 0.8936 - val_loss: 2.2513 - val_accuracy: 0.7500\n",
      "Epoch 19/30\n",
      "87/87 [==============================] - 33s 375ms/step - loss: 0.2523 - accuracy: 0.8953 - val_loss: 0.9892 - val_accuracy: 0.7500\n",
      "Epoch 20/30\n",
      "87/87 [==============================] - 33s 375ms/step - loss: 0.2657 - accuracy: 0.8913 - val_loss: 1.6850 - val_accuracy: 0.7500\n",
      "Epoch 21/30\n",
      "87/87 [==============================] - 33s 384ms/step - loss: 0.2174 - accuracy: 0.9033 - val_loss: 1.4487 - val_accuracy: 0.7500\n",
      "Epoch 22/30\n",
      "87/87 [==============================] - 33s 375ms/step - loss: 0.2614 - accuracy: 0.8941 - val_loss: 1.8822 - val_accuracy: 0.7500\n",
      "Epoch 23/30\n",
      "87/87 [==============================] - 33s 380ms/step - loss: 0.2514 - accuracy: 0.9074 - val_loss: 2.0982 - val_accuracy: 0.7500\n",
      "Epoch 24/30\n",
      "87/87 [==============================] - 34s 386ms/step - loss: 0.2430 - accuracy: 0.9091 - val_loss: 1.4242 - val_accuracy: 0.7500\n",
      "Epoch 25/30\n",
      "87/87 [==============================] - 33s 375ms/step - loss: 0.2044 - accuracy: 0.9166 - val_loss: 1.7068 - val_accuracy: 0.7500\n",
      "Epoch 26/30\n",
      "87/87 [==============================] - 32s 372ms/step - loss: 0.2220 - accuracy: 0.8987 - val_loss: 1.1586 - val_accuracy: 0.7500\n",
      "Epoch 27/30\n",
      "87/87 [==============================] - 34s 393ms/step - loss: 0.2597 - accuracy: 0.9085 - val_loss: 1.5498 - val_accuracy: 0.7500\n",
      "Epoch 28/30\n",
      "87/87 [==============================] - 32s 372ms/step - loss: 0.3196 - accuracy: 0.9143 - val_loss: 1.3527 - val_accuracy: 0.7500\n",
      "Epoch 29/30\n",
      "87/87 [==============================] - 33s 376ms/step - loss: 0.2156 - accuracy: 0.9085 - val_loss: 1.5189 - val_accuracy: 0.7500\n",
      "Epoch 30/30\n",
      "87/87 [==============================] - 33s 382ms/step - loss: 0.2413 - accuracy: 0.8970 - val_loss: 1.3050 - val_accuracy: 0.7500\n"
     ]
    }
   ],
   "source": [
    "history = model1.fit_generator(generator=train_generator1,\n",
    "                               epochs=30,\n",
    "                               steps_per_epoch=87, # equal to ceiling(num_samples/batch_size)\n",
    "                               validation_data=validation_generator1,\n",
    "                               validation_steps=50)"
   ]
  },
  {
   "cell_type": "code",
   "execution_count": 41,
   "metadata": {},
   "outputs": [
    {
     "data": {
      "image/png": "[encoded data removed]",
      "text/plain": [
       "<Figure size 576x360 with 1 Axes>"
      ]
     },
     "metadata": {},
     "output_type": "display_data"
    }
   ],
   "source": [
    "acc = history.history['accuracy']\n",
    "val_acc = history.history['val_accuracy']\n",
    "x = range(len(history.history['accuracy']))\n",
    "\n",
    "plt.figure(figsize=(8,5))\n",
    "plt.plot(x, acc, color='b', label='Training Accuracy')\n",
    "plt.plot(x, val_acc, color='r', label='Validation Accuracy')\n",
    "plt.xlabel(\"Epochs\")\n",
    "plt.ylabel(\"Accuracy\")\n",
    "plt.title(\"Accuracy vs Epochs\")\n",
    "plt.legend()\n",
    "plt.show()"
   ]
  },
  {
   "cell_type": "markdown",
   "metadata": {},
   "source": [
    "Save the model for future reference.  "
   ]
  },
  {
   "cell_type": "code",
   "execution_count": 39,
   "metadata": {},
   "outputs": [],
   "source": [
    "# Save the model \n",
    "model.save('chest_xray_data_aug.h5')"
   ]
  },
  {
   "cell_type": "markdown",
   "metadata": {},
   "source": [
    "## Final Evaluation\n",
    "\n",
    "Now use the test set to perform a final evaluation on your model of choice. "
   ]
  },
  {
   "cell_type": "code",
   "execution_count": 25,
   "metadata": {},
   "outputs": [
    {
     "name": "stdout",
     "output_type": "stream",
     "text": [
      "Found 208 images belonging to 2 classes.\n",
      "Loss: 0.2762365937232971\n",
      "Accuracy: 0.8380376100540161\n"
     ]
    }
   ],
   "source": [
    "# Your code here \n",
    "# Perform a final evaluation using the test set\n",
    "test_generator = test_datagen.flow_from_directory(test_dir,\n",
    "                                                  target_size=(150,150),\n",
    "                                                  batch_size=32,\n",
    "                                                  class_mode='binary')\n",
    "\n",
    "test_loss, test_acc = model.evaluate_generator(test_generator,\n",
    "                                               steps=50)\n",
    "\n",
    "print(f\"Loss: {test_loss}\\nAccuracy: {test_acc}\")"
   ]
  },
  {
   "cell_type": "code",
   "execution_count": 40,
   "metadata": {},
   "outputs": [
    {
     "name": "stdout",
     "output_type": "stream",
     "text": [
      "Loss: 0.38051673769950867\n",
      "Accuracy: 0.8790322542190552\n"
     ]
    }
   ],
   "source": [
    "test_loss, test_acc = model1.evaluate_generator(test_generator,\n",
    "                                                steps=50)\n",
    "\n",
    "print(f\"Loss: {test_loss}\\nAccuracy: {test_acc}\")"
   ]
  },
  {
   "cell_type": "markdown",
   "metadata": {},
   "source": [
    "## Level Up (Optional): Adding More Data to the Model\n",
    "\n",
    "As discussed, the current dataset we worked with is a subset of a dataset hosted on Kaggle. Increasing the data that we use to train the model will result in additional performance gains but will also result in longer training times and be more resource intensive.   \n",
    "\n",
    "⏰ It is estimated that training on the full dataset will take approximately 4 hours (and potentially significantly longer) depending on your computer's specifications.\n",
    "\n",
    "In order to test the impact of training on the full dataset, start by downloading the data from Kaggle here: https://www.kaggle.com/paultimothymooney/chest-xray-pneumonia.   "
   ]
  },
  {
   "cell_type": "code",
   "execution_count": null,
   "metadata": {},
   "outputs": [],
   "source": [
    "# Optional extension; Your code here\n",
    "# ⏰ This cell may take several hours to run "
   ]
  },
  {
   "cell_type": "markdown",
   "metadata": {},
   "source": [
    "## Summary\n",
    "\n",
    "Well done! In this lab, you practice building your own CNN for image recognition which drastically outperformed our previous attempts using a standard deep learning model alone. In the upcoming sections, we'll continue to investigate further techniques associated with CNNs including visualizing the representations they learn and techniques to further bolster their performance when we have limited training data such as here."
   ]
  }
 ],
 "metadata": {
  "kernelspec": {
   "display_name": "learn-env",
   "language": "python",
   "name": "learn-env"
  },
  "language_info": {
   "codemirror_mode": {
    "name": "ipython",
    "version": 3
   },
   "file_extension": ".py",
   "mimetype": "text/x-python",
   "name": "python",
   "nbconvert_exporter": "python",
   "pygments_lexer": "ipython3",
   "version": "3.6.9"
  },
  "toc": {
   "base_numbering": 1,
   "nav_menu": {},
   "number_sections": true,
   "sideBar": true,
   "skip_h1_title": false,
   "title_cell": "Table of Contents",
   "title_sidebar": "Contents",
   "toc_cell": false,
   "toc_position": {},
   "toc_section_display": true,
   "toc_window_display": false
  }
 },
 "nbformat": 4,
 "nbformat_minor": 2
}
